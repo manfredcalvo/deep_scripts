{
 "cells": [
  {
   "cell_type": "code",
   "execution_count": 1,
   "id": "bibliographic-rabbit",
   "metadata": {},
   "outputs": [],
   "source": [
    "from tensorflow.keras.applications.resnet50 import ResNet50\n",
    "from tensorflow.keras.preprocessing import image\n",
    "from tensorflow.keras.applications.resnet50 import preprocess_input, decode_predictions\n",
    "from tensorflow.keras.preprocessing import image_dataset_from_directory\n",
    "from tensorflow.keras.layers import Input, GlobalAveragePooling2D, Dense, Flatten, BatchNormalization, Activation, Dropout\n",
    "from tensorflow.keras.models import Model\n",
    "from tensorflow.keras.optimizers import Adam\n",
    "from tensorflow.keras.callbacks import ReduceLROnPlateau, EarlyStopping, CSVLogger, \\\n",
    "    LambdaCallback\n",
    "from tensorflow.keras.preprocessing.image import ImageDataGenerator\n",
    "from tensorflow.keras.regularizers import l2\n",
    "import numpy as np\n",
    "import tensorflow as tf\n",
    "import json\n",
    "from sklearn.utils.class_weight import compute_class_weight\n",
    "from dataset.ImageDatasetGenerator import ImageDatasetGenerator\n",
    "from dataset.generate_dataset import GenerateDataset\n",
    "from pathlib import Path\n",
    "import math"
   ]
  },
  {
   "cell_type": "code",
   "execution_count": 2,
   "id": "engaged-monitor",
   "metadata": {},
   "outputs": [],
   "source": [
    "def calculate_steps(dataset_size, batch_size):\n",
    "    return math.ceil(dataset_size / batch_size)"
   ]
  },
  {
   "cell_type": "code",
   "execution_count": 3,
   "id": "steady-pricing",
   "metadata": {},
   "outputs": [],
   "source": [
    "guyana_dataset_path = '/datadrive/notebooks/downloaded_data/full_data_top_23_0.1_resize_672_672'\n",
    "\n",
    "with open('/datadrive/bdfr.metadata') as json_file:\n",
    "        guyana_dataset_metadata = json.load(json_file)\n",
    "        \n",
    "generate_dataset_guyana = GenerateDataset(guyana_dataset_path, guyana_dataset_metadata)\n",
    "\n",
    "generate_dataset_guyana.load_dataset('None')\n",
    "\n",
    "dataset_guyana = generate_dataset_guyana.all_dataset()"
   ]
  },
  {
   "cell_type": "code",
   "execution_count": 4,
   "id": "worth-beginning",
   "metadata": {},
   "outputs": [],
   "source": [
    "train_data_guyana = dataset_guyana['train']\n",
    "val_data_guyana = dataset_guyana['val']\n",
    "test_data_guyana = dataset_guyana['test']"
   ]
  },
  {
   "cell_type": "code",
   "execution_count": 5,
   "id": "green-samuel",
   "metadata": {},
   "outputs": [],
   "source": [
    "batch_size = 64\n",
    "output_dim = (224, 224)"
   ]
  },
  {
   "cell_type": "code",
   "execution_count": 6,
   "id": "manual-africa",
   "metadata": {},
   "outputs": [],
   "source": [
    "train_image_generator = ImageDatasetGenerator(train_data_guyana['files'], train_data_guyana['labels'], batch_size, output_dim,\n",
    "                                        guyana_dataset_metadata, train_mode=True, random_crop=True)\n",
    "val_image_generator = ImageDatasetGenerator(val_data_guyana['files'], val_data_guyana['labels'], batch_size, output_dim,\n",
    "                                        guyana_dataset_metadata, train_mode=False, random_crop=False)"
   ]
  },
  {
   "cell_type": "code",
   "execution_count": 7,
   "id": "sorted-astrology",
   "metadata": {},
   "outputs": [
    {
     "data": {
      "text/plain": [
       "(5233, 1740)"
      ]
     },
     "execution_count": 7,
     "metadata": {},
     "output_type": "execute_result"
    }
   ],
   "source": [
    "len(train_image_generator), len(val_image_generator)"
   ]
  },
  {
   "cell_type": "code",
   "execution_count": 8,
   "id": "baking-dependence",
   "metadata": {},
   "outputs": [],
   "source": [
    "n_classes = generate_dataset_guyana.num_classes()"
   ]
  },
  {
   "cell_type": "code",
   "execution_count": 3,
   "id": "growing-consultation",
   "metadata": {},
   "outputs": [
    {
     "data": {
      "text/plain": [
       "array([294, 123, 202, 179, 191, 471, 282, 476, 659, 286, 256, 692, 121,\n",
       "       376, 130, 131, 159, 145, 161, 190, 123, 143, 139], dtype=int64)"
      ]
     },
     "execution_count": 3,
     "metadata": {},
     "output_type": "execute_result"
    }
   ],
   "source": [
    "#np.bincount(train_flow.classes)"
   ]
  },
  {
   "cell_type": "code",
   "execution_count": 4,
   "id": "dedicated-plaintiff",
   "metadata": {},
   "outputs": [
    {
     "name": "stderr",
     "output_type": "stream",
     "text": [
      "C:\\Users\\calvom\\Miniconda3\\envs\\tensorflow_env\\lib\\site-packages\\sklearn\\utils\\validation.py:70: FutureWarning: Pass classes=[ 0  1  2  3  4  5  6  7  8  9 10 11 12 13 14 15 16 17 18 19 20 21 22], y=[ 0  0  0 ... 22 22 22] as keyword args. From version 1.0 (renaming of 0.25) passing these as positional arguments will result in an error\n",
      "  warnings.warn(f\"Pass {args_msg} as keyword args. From version \"\n"
     ]
    },
    {
     "data": {
      "text/plain": [
       "({0: 0.8768115942028986,\n",
       "  1: 2.0957935666313183,\n",
       "  2: 1.2761515281962978,\n",
       "  3: 1.4401263055623026,\n",
       "  4: 1.349647165945823,\n",
       "  5: 0.5473091479737838,\n",
       "  6: 0.914122725871107,\n",
       "  7: 0.5415601023017903,\n",
       "  8: 0.39117239559279543,\n",
       "  9: 0.9013377926421404,\n",
       "  10: 1.0069633152173914,\n",
       "  11: 0.3725182206584569,\n",
       "  12: 2.130434782608696,\n",
       "  13: 0.6855920444033302,\n",
       "  14: 1.982943143812709,\n",
       "  15: 1.9678061732492533,\n",
       "  16: 1.6212742685261143,\n",
       "  17: 1.7778110944527736,\n",
       "  18: 1.6011342155009451,\n",
       "  19: 1.3567505720823798,\n",
       "  20: 2.0957935666313183,\n",
       "  21: 1.8026755852842808,\n",
       "  22: 1.8545511416953393},\n",
       " 23)"
      ]
     },
     "execution_count": 4,
     "metadata": {},
     "output_type": "execute_result"
    }
   ],
   "source": [
    "'''\n",
    "class_weights = {i: weight for i, weight in enumerate(compute_class_weight('balanced', np.unique(train_flow.classes), train_flow.classes))}\n",
    "n_classes = len(class_weights)\n",
    "class_weights, n_classes\n",
    "'''"
   ]
  },
  {
   "cell_type": "code",
   "execution_count": 9,
   "id": "governmental-nerve",
   "metadata": {},
   "outputs": [
    {
     "name": "stdout",
     "output_type": "stream",
     "text": [
      "Model: \"model\"\n",
      "_________________________________________________________________\n",
      "Layer (type)                 Output Shape              Param #   \n",
      "=================================================================\n",
      "input_2 (InputLayer)         [(None, 224, 224, 3)]     0         \n",
      "_________________________________________________________________\n",
      "tf.__operators__.getitem (Sl (None, 224, 224, 3)       0         \n",
      "_________________________________________________________________\n",
      "tf.nn.bias_add (TFOpLambda)  (None, 224, 224, 3)       0         \n",
      "_________________________________________________________________\n",
      "resnet50 (Functional)        (None, None, None, 2048)  23587712  \n",
      "_________________________________________________________________\n",
      "global_average_pooling2d (Gl (None, 2048)              0         \n",
      "_________________________________________________________________\n",
      "dense (Dense)                (None, 2048)              4196352   \n",
      "_________________________________________________________________\n",
      "batch_normalization (BatchNo (None, 2048)              8192      \n",
      "_________________________________________________________________\n",
      "activation (Activation)      (None, 2048)              0         \n",
      "_________________________________________________________________\n",
      "dropout (Dropout)            (None, 2048)              0         \n",
      "_________________________________________________________________\n",
      "dense_1 (Dense)              (None, 1024)              2098176   \n",
      "_________________________________________________________________\n",
      "batch_normalization_1 (Batch (None, 1024)              4096      \n",
      "_________________________________________________________________\n",
      "activation_1 (Activation)    (None, 1024)              0         \n",
      "_________________________________________________________________\n",
      "dropout_1 (Dropout)          (None, 1024)              0         \n",
      "_________________________________________________________________\n",
      "dense_2 (Dense)              (None, 23)                23575     \n",
      "=================================================================\n",
      "Total params: 29,918,103\n",
      "Trainable params: 6,324,247\n",
      "Non-trainable params: 23,593,856\n",
      "_________________________________________________________________\n"
     ]
    }
   ],
   "source": [
    "\n",
    "'''\n",
    "img_generator = image_dataset_from_directory('C:\\\\Users\\\\calvom\\\\ThesisMaster\\\\notebooks\\\\downloaded_data\\\\training_top_23_0.1_resize_672_672', \n",
    "                                             batch_size=32, \n",
    "                                             image_size=(224, 224), \n",
    "                                             shuffle=True, \n",
    "                                             label_mode='categorical')\n",
    "'''\n",
    "\n",
    "base_model = ResNet50(weights='imagenet', include_top=False)\n",
    "\n",
    "input_img = Input((224, 224,3))\n",
    "\n",
    "x = preprocess_input(input_img)\n",
    "\n",
    "encoded_features = base_model(x)\n",
    "\n",
    "x3 = GlobalAveragePooling2D()(encoded_features)\n",
    "x4 = Dense(1024, activation='relu')(x3)\n",
    "x5 = Dropout(0.4)(x4)\n",
    "\n",
    "predictions = Dense(n_classes, activation='softmax', name='softmax', kernel_regularizer=l2(0.01),\n",
    "                         bias_regularizer=l2(0.01), kernel_initializer=tf.keras.initializers.glorot_normal())(x5)\n",
    "\n",
    "# this is the model we will train\n",
    "model = Model(inputs=input_img, outputs=predictions)\n",
    "\n",
    "# first: train only the top layers (which were randomly initialized)\n",
    "# i.e. freeze all convolutional resnet50 layers\n",
    "for layer in base_model.layers:\n",
    "    layer.trainable = True\n",
    "\n",
    "model.summary()"
   ]
  },
  {
   "cell_type": "code",
   "execution_count": 10,
   "id": "surprising-amber",
   "metadata": {},
   "outputs": [
    {
     "name": "stderr",
     "output_type": "stream",
     "text": [
      "C:\\Users\\calvom\\Miniconda3\\envs\\tensorflow_env\\lib\\site-packages\\tensorflow\\python\\keras\\engine\\training.py:1844: UserWarning: `Model.fit_generator` is deprecated and will be removed in a future version. Please use `Model.fit`, which supports generators.\n",
      "  warnings.warn('`Model.fit_generator` is deprecated and '\n"
     ]
    },
    {
     "name": "stdout",
     "output_type": "stream",
     "text": [
      "Epoch 1/10\n",
      "82/82 [==============================] - 824s 10s/step - loss: 3.0855 - accuracy: 0.2080 - val_loss: 5.0790 - val_accuracy: 0.1425\n",
      "Epoch 2/10\n",
      "82/82 [==============================] - 836s 10s/step - loss: 2.5177 - accuracy: 0.3114 - val_loss: 5.6305 - val_accuracy: 0.1305\n",
      "Epoch 3/10\n",
      "82/82 [==============================] - 808s 10s/step - loss: 2.2701 - accuracy: 0.3562 - val_loss: 4.0128 - val_accuracy: 0.2293\n",
      "Epoch 4/10\n",
      "82/82 [==============================] - 833s 10s/step - loss: 2.1339 - accuracy: 0.3960 - val_loss: 3.6548 - val_accuracy: 0.2552\n",
      "Epoch 5/10\n",
      "82/82 [==============================] - 903s 11s/step - loss: 1.9643 - accuracy: 0.4331 - val_loss: 3.8092 - val_accuracy: 0.2080\n",
      "Epoch 6/10\n",
      "82/82 [==============================] - 906s 11s/step - loss: 1.8951 - accuracy: 0.4467 - val_loss: 3.4749 - val_accuracy: 0.2172\n",
      "Epoch 7/10\n",
      "82/82 [==============================] - 808s 10s/step - loss: 1.8284 - accuracy: 0.4500 - val_loss: 4.2179 - val_accuracy: 0.2213\n",
      "Epoch 8/10\n",
      "82/82 [==============================] - 854s 10s/step - loss: 1.7981 - accuracy: 0.4678 - val_loss: 3.7914 - val_accuracy: 0.2506\n",
      "Epoch 9/10\n",
      "82/82 [==============================] - 894s 11s/step - loss: 1.7439 - accuracy: 0.4832 - val_loss: 4.5175 - val_accuracy: 0.2011\n",
      "Epoch 10/10\n",
      "82/82 [==============================] - 835s 10s/step - loss: 1.7202 - accuracy: 0.4921 - val_loss: 3.8434 - val_accuracy: 0.2483\n",
      "INFO:tensorflow:Assets written to: step_1_model\\assets\n"
     ]
    }
   ],
   "source": [
    "\n",
    "callbacks = [\n",
    "        ReduceLROnPlateau(monitor='val_loss', factor=0.2, patience=5, min_lr=1e-12,\n",
    "                          verbose=1),\n",
    "        EarlyStopping(monitor='val_loss', patience=10, verbose=1)]\n",
    "    \n",
    "\n",
    "op = Adam(lr=1e-4, decay=1e-4)\n",
    "    \n",
    "model.compile(loss='categorical_crossentropy', optimizer=op, metrics=['accuracy', 'top_k_categorical_accuracy'])\n",
    "\n",
    "\n",
    "model.fit(train_image_generator, \n",
    "                    steps_per_epoch=calculate_steps(len(train_image_generator), batch_size),\n",
    "                    epochs=100,\n",
    "                    validation_steps=calculate_steps(len(val_image_generator), batch_size),\n",
    "                    validation_data=val_image_generator, use_multiprocessing=True, workers=16, callbacks=callbacks)\n",
    "#model.fit(train_flow, epochs=10, class_weight=class_weights)\n",
    "model.save('/datadrive/bdfr_models/step_1_model')"
   ]
  },
  {
   "cell_type": "code",
   "execution_count": 13,
   "id": "operating-mineral",
   "metadata": {},
   "outputs": [
    {
     "name": "stdout",
     "output_type": "stream",
     "text": [
      "0 input_1\n",
      "1 conv1_pad\n",
      "2 conv1_conv\n",
      "3 conv1_bn\n",
      "4 conv1_relu\n",
      "5 pool1_pad\n",
      "6 pool1_pool\n",
      "7 conv2_block1_1_conv\n",
      "8 conv2_block1_1_bn\n",
      "9 conv2_block1_1_relu\n",
      "10 conv2_block1_2_conv\n",
      "11 conv2_block1_2_bn\n",
      "12 conv2_block1_2_relu\n",
      "13 conv2_block1_0_conv\n",
      "14 conv2_block1_3_conv\n",
      "15 conv2_block1_0_bn\n",
      "16 conv2_block1_3_bn\n",
      "17 conv2_block1_add\n",
      "18 conv2_block1_out\n",
      "19 conv2_block2_1_conv\n",
      "20 conv2_block2_1_bn\n",
      "21 conv2_block2_1_relu\n",
      "22 conv2_block2_2_conv\n",
      "23 conv2_block2_2_bn\n",
      "24 conv2_block2_2_relu\n",
      "25 conv2_block2_3_conv\n",
      "26 conv2_block2_3_bn\n",
      "27 conv2_block2_add\n",
      "28 conv2_block2_out\n",
      "29 conv2_block3_1_conv\n",
      "30 conv2_block3_1_bn\n",
      "31 conv2_block3_1_relu\n",
      "32 conv2_block3_2_conv\n",
      "33 conv2_block3_2_bn\n",
      "34 conv2_block3_2_relu\n",
      "35 conv2_block3_3_conv\n",
      "36 conv2_block3_3_bn\n",
      "37 conv2_block3_add\n",
      "38 conv2_block3_out\n",
      "39 conv3_block1_1_conv\n",
      "40 conv3_block1_1_bn\n",
      "41 conv3_block1_1_relu\n",
      "42 conv3_block1_2_conv\n",
      "43 conv3_block1_2_bn\n",
      "44 conv3_block1_2_relu\n",
      "45 conv3_block1_0_conv\n",
      "46 conv3_block1_3_conv\n",
      "47 conv3_block1_0_bn\n",
      "48 conv3_block1_3_bn\n",
      "49 conv3_block1_add\n",
      "50 conv3_block1_out\n",
      "51 conv3_block2_1_conv\n",
      "52 conv3_block2_1_bn\n",
      "53 conv3_block2_1_relu\n",
      "54 conv3_block2_2_conv\n",
      "55 conv3_block2_2_bn\n",
      "56 conv3_block2_2_relu\n",
      "57 conv3_block2_3_conv\n",
      "58 conv3_block2_3_bn\n",
      "59 conv3_block2_add\n",
      "60 conv3_block2_out\n",
      "61 conv3_block3_1_conv\n",
      "62 conv3_block3_1_bn\n",
      "63 conv3_block3_1_relu\n",
      "64 conv3_block3_2_conv\n",
      "65 conv3_block3_2_bn\n",
      "66 conv3_block3_2_relu\n",
      "67 conv3_block3_3_conv\n",
      "68 conv3_block3_3_bn\n",
      "69 conv3_block3_add\n",
      "70 conv3_block3_out\n",
      "71 conv3_block4_1_conv\n",
      "72 conv3_block4_1_bn\n",
      "73 conv3_block4_1_relu\n",
      "74 conv3_block4_2_conv\n",
      "75 conv3_block4_2_bn\n",
      "76 conv3_block4_2_relu\n",
      "77 conv3_block4_3_conv\n",
      "78 conv3_block4_3_bn\n",
      "79 conv3_block4_add\n",
      "80 conv3_block4_out\n",
      "81 conv4_block1_1_conv\n",
      "82 conv4_block1_1_bn\n",
      "83 conv4_block1_1_relu\n",
      "84 conv4_block1_2_conv\n",
      "85 conv4_block1_2_bn\n",
      "86 conv4_block1_2_relu\n",
      "87 conv4_block1_0_conv\n",
      "88 conv4_block1_3_conv\n",
      "89 conv4_block1_0_bn\n",
      "90 conv4_block1_3_bn\n",
      "91 conv4_block1_add\n",
      "92 conv4_block1_out\n",
      "93 conv4_block2_1_conv\n",
      "94 conv4_block2_1_bn\n",
      "95 conv4_block2_1_relu\n",
      "96 conv4_block2_2_conv\n",
      "97 conv4_block2_2_bn\n",
      "98 conv4_block2_2_relu\n",
      "99 conv4_block2_3_conv\n",
      "100 conv4_block2_3_bn\n",
      "101 conv4_block2_add\n",
      "102 conv4_block2_out\n",
      "103 conv4_block3_1_conv\n",
      "104 conv4_block3_1_bn\n",
      "105 conv4_block3_1_relu\n",
      "106 conv4_block3_2_conv\n",
      "107 conv4_block3_2_bn\n",
      "108 conv4_block3_2_relu\n",
      "109 conv4_block3_3_conv\n",
      "110 conv4_block3_3_bn\n",
      "111 conv4_block3_add\n",
      "112 conv4_block3_out\n",
      "113 conv4_block4_1_conv\n",
      "114 conv4_block4_1_bn\n",
      "115 conv4_block4_1_relu\n",
      "116 conv4_block4_2_conv\n",
      "117 conv4_block4_2_bn\n",
      "118 conv4_block4_2_relu\n",
      "119 conv4_block4_3_conv\n",
      "120 conv4_block4_3_bn\n",
      "121 conv4_block4_add\n",
      "122 conv4_block4_out\n",
      "123 conv4_block5_1_conv\n",
      "124 conv4_block5_1_bn\n",
      "125 conv4_block5_1_relu\n",
      "126 conv4_block5_2_conv\n",
      "127 conv4_block5_2_bn\n",
      "128 conv4_block5_2_relu\n",
      "129 conv4_block5_3_conv\n",
      "130 conv4_block5_3_bn\n",
      "131 conv4_block5_add\n",
      "132 conv4_block5_out\n",
      "133 conv4_block6_1_conv\n",
      "134 conv4_block6_1_bn\n",
      "135 conv4_block6_1_relu\n",
      "136 conv4_block6_2_conv\n",
      "137 conv4_block6_2_bn\n",
      "138 conv4_block6_2_relu\n",
      "139 conv4_block6_3_conv\n",
      "140 conv4_block6_3_bn\n",
      "141 conv4_block6_add\n",
      "142 conv4_block6_out\n",
      "143 conv5_block1_1_conv\n",
      "144 conv5_block1_1_bn\n",
      "145 conv5_block1_1_relu\n",
      "146 conv5_block1_2_conv\n",
      "147 conv5_block1_2_bn\n",
      "148 conv5_block1_2_relu\n",
      "149 conv5_block1_0_conv\n",
      "150 conv5_block1_3_conv\n",
      "151 conv5_block1_0_bn\n",
      "152 conv5_block1_3_bn\n",
      "153 conv5_block1_add\n",
      "154 conv5_block1_out\n",
      "155 conv5_block2_1_conv\n",
      "156 conv5_block2_1_bn\n",
      "157 conv5_block2_1_relu\n",
      "158 conv5_block2_2_conv\n",
      "159 conv5_block2_2_bn\n",
      "160 conv5_block2_2_relu\n",
      "161 conv5_block2_3_conv\n",
      "162 conv5_block2_3_bn\n",
      "163 conv5_block2_add\n",
      "164 conv5_block2_out\n",
      "165 conv5_block3_1_conv\n",
      "166 conv5_block3_1_bn\n",
      "167 conv5_block3_1_relu\n",
      "168 conv5_block3_2_conv\n",
      "169 conv5_block3_2_bn\n",
      "170 conv5_block3_2_relu\n",
      "171 conv5_block3_3_conv\n",
      "172 conv5_block3_3_bn\n",
      "173 conv5_block3_add\n",
      "174 conv5_block3_out\n"
     ]
    }
   ],
   "source": [
    "'''\n",
    "for i, layer in enumerate(base_model.layers):\n",
    "    print(i, layer.name)\n",
    "'''"
   ]
  },
  {
   "cell_type": "code",
   "execution_count": 14,
   "id": "associate-russell",
   "metadata": {},
   "outputs": [],
   "source": [
    "'''\n",
    "for layer in base_model.layers[:143]:\n",
    "    layer.trainable = False\n",
    "for layer in base_model.layers[143:]:\n",
    "    layer.trainable = True\n",
    "'''"
   ]
  },
  {
   "cell_type": "code",
   "execution_count": 15,
   "id": "local-mirror",
   "metadata": {},
   "outputs": [],
   "source": [
    "'''\n",
    "from tensorflow.keras.optimizers import Adam\n",
    "model.compile(optimizer=Adam(lr=0.0001), loss='categorical_crossentropy', metrics=['accuracy'])\n",
    "'''"
   ]
  },
  {
   "cell_type": "code",
   "execution_count": 16,
   "id": "neural-currency",
   "metadata": {},
   "outputs": [
    {
     "name": "stdout",
     "output_type": "stream",
     "text": [
      "Epoch 1/10\n",
      "82/82 [==============================] - 1130s 14s/step - loss: 1.9536 - accuracy: 0.4470 - val_loss: 2.5939 - val_accuracy: 0.2931\n",
      "Epoch 2/10\n",
      "82/82 [==============================] - 1108s 14s/step - loss: 1.6003 - accuracy: 0.5305 - val_loss: 2.5880 - val_accuracy: 0.3115\n",
      "Epoch 3/10\n",
      "82/82 [==============================] - 1105s 14s/step - loss: 1.4428 - accuracy: 0.5663 - val_loss: 2.5352 - val_accuracy: 0.3247\n",
      "Epoch 4/10\n",
      "82/82 [==============================] - 1150s 14s/step - loss: 1.3244 - accuracy: 0.5896 - val_loss: 2.7713 - val_accuracy: 0.3155\n",
      "Epoch 5/10\n",
      "82/82 [==============================] - 1188s 14s/step - loss: 1.2705 - accuracy: 0.6149 - val_loss: 2.5658 - val_accuracy: 0.3253\n",
      "Epoch 6/10\n",
      "82/82 [==============================] - 1055s 13s/step - loss: 1.1517 - accuracy: 0.6506 - val_loss: 2.9589 - val_accuracy: 0.2868\n",
      "Epoch 7/10\n",
      "82/82 [==============================] - 1086s 13s/step - loss: 1.1485 - accuracy: 0.6409 - val_loss: 2.8133 - val_accuracy: 0.3098\n",
      "Epoch 8/10\n",
      "82/82 [==============================] - 1081s 13s/step - loss: 1.0010 - accuracy: 0.6888 - val_loss: 3.0135 - val_accuracy: 0.2948\n",
      "Epoch 9/10\n",
      "82/82 [==============================] - 1070s 13s/step - loss: 1.0750 - accuracy: 0.6677 - val_loss: 3.2839 - val_accuracy: 0.2948\n",
      "Epoch 10/10\n",
      "82/82 [==============================] - 1088s 13s/step - loss: 0.9949 - accuracy: 0.6908 - val_loss: 2.6883 - val_accuracy: 0.3259\n",
      "INFO:tensorflow:Assets written to: step_2_model\\assets\n"
     ]
    }
   ],
   "source": [
    "'''\n",
    "#model.fit(train_flow, epochs=10, validation_data=validation_flow, class_weight=class_weights)\n",
    "model.fit(train_image_generator, \n",
    "                    steps_per_epoch=calculate_steps(len(train_image_generator), batch_size),\n",
    "                    epochs=20,\n",
    "                    validation_steps=calculate_steps(len(val_image_generator), batch_size),\n",
    "                    validation_data=val_image_generator, multiprocessing=True, workers=16)\n",
    "\n",
    "model.save('/datadrive/bdfr_models/step_2_model')\n",
    "'''"
   ]
  }
 ],
 "metadata": {
  "kernelspec": {
   "display_name": "Python 3",
   "language": "python",
   "name": "python3"
  },
  "language_info": {
   "codemirror_mode": {
    "name": "ipython",
    "version": 3
   },
   "file_extension": ".py",
   "mimetype": "text/x-python",
   "name": "python",
   "nbconvert_exporter": "python",
   "pygments_lexer": "ipython3",
   "version": "3.8.5"
  }
 },
 "nbformat": 4,
 "nbformat_minor": 5
}
